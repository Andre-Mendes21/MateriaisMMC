{
 "cells": [
  {
   "cell_type": "markdown",
   "metadata": {},
   "source": [
    "# Trabalho Prático 1 - Temas de Álgebra\n",
    "\n",
    "### Mestrado em Matemática e Computação, Ano Letivo 2023-24\n",
    "\n",
    "----------------------------------------\n",
    "\n",
    "#### Enunciado\n",
    "\n",
    "Enuncie e exemplifique o esquema de assinatura digital ECDSA.\n",
    "\n",
    "https://en.wikipedia.org/wiki/Elliptic_Curve_Digital_Signature_Algorithm\n",
    "\n",
    "Secção 3.3.10 de S Yan, \"Number theory for Computing\", Springer.\n",
    "\n",
    "Se pretender usar o ECDSA aplicado no digest, sugerimos que use a construção da síntese dada pela função de hash do sagemath.\n",
    "\n",
    "Por exemplo, a \"hash\" de uma mensagem pode ser obtida assim:\n",
    "```sage\n",
    "import hashlib\n",
    "HH =hashlib.sha256(b\"Nobody expects the Spanish Inquisition\").hexdigest()\n",
    "ZZ('0x'+HH)\n",
    "```\n",
    "\n",
    "Neste caso, usámos a função de hash SHA3 com 256 bits; independentemente do tamanho da mensagem original, a função de hash tem como imagem uma mensagem com no máximo 256 bits. "
   ]
  },
  {
   "cell_type": "markdown",
   "metadata": {},
   "source": [
    "---------------------------------------------------------"
   ]
  },
  {
   "cell_type": "markdown",
   "metadata": {},
   "source": [
    "## * Algoritmo da Assinatura Digital de Curvas Elípticas (Elliptic Curve Digital Signature Algorithm - ECDSA) *\n",
    "\n",
    "O _Elliptic Curve Digital Signature Algorithm (ECDSA)_ é um algoritmo de assinatura digital baseado em curvas elípticas, utilizado para garantir a segurança de dados em sistemas criptográficos.\n",
    "\n",
    "Iremos definir os passos necessários para implementar o algoritmo ECDSA na ligunagem SAGE-Math, tendo partindo de uma curva elíptica exemplo e de uma mensagem exemplo que a Alice quer enviar para o Bob, onde o Bob terá de verificar se a assinatura gerada pela mensagem e enviada pela Alice se é válida."
   ]
  },
  {
   "cell_type": "markdown",
   "metadata": {},
   "source": [
    "### Passos do Algoritmo:\n",
    "\n",
    "#### A) Criar a assinatura da mensagem (que se deseja enviar) sobre uma curva elíptica.\n",
    "\n",
    "- 1) Definir uma curva elíptica de módulo _p_ (${F}_p$);\n",
    "- 2) Obter um ponto gerador $G$ curva elíptica e a sua ordem $n$;\n",
    "- 3) Gerar um número aleatório $privKey$ (_chave privada_) dentro do intervalo $[1, n-1]$\\;\n",
    "- 4) Calcular chave pública $pubKey$ = $privKey \\cdot G$\\;\n",
    "- 5) Obter $z = HASH(mensagem)$;\n",
    "- 6) Gerar um número aleatório $k$  dentro do intervalo $[1, n-1]$\\;\n",
    "- 7) Extrair as coordenadas do ponto $P$ = ($x_1$, $y_1$) = $k * G$;\n",
    "- 8) Calcular $r \\equiv x_1$ (mod $n$)\\; \n",
    "    - (caso $r$=0, voltar ao passo 7); \n",
    "- 9) Calcular $s \\equiv k^{-1} \\cdot (z + r*$_privKey_$) \\pmod{n}$\\;\n",
    "    - (caso $s$=0, voltar a dois passo 7);\n",
    "- 10) Enviar a assinatura ($r$,$s$).\n",
    "\n",
    "#### B) Verificar a validade da assinatura recebida.\n",
    "\n",
    "- 1) Verificar se a _chave-pública_ ($pubKey$) não é igual ao elemento identidade ($O = n*G$). \n",
    "    - Se for igual, a assinatura é inválida.\n",
    "    - __break__;\n",
    "- 2) Verificar se a _chave-pública_ ($pubKey$) pertence à curva elíptica. \n",
    "    - Se não pertencer, a assinatura é inválida.\n",
    "    - __break__;\n",
    "- 3) Verificar se a $n * pubKey = O$ (elemento identidade).\n",
    "    - Se não verificar a igualdade, a assinatura é inválida.\n",
    "    - __break__;\n",
    "- 4) Verificar se $r$ e $s$  pertencem ao intervalo $[1, n-1]$\\;\n",
    "    - Se não verificar a condição, a assinatura é inválida.\n",
    "    - __break__;\n",
    "- 5) Calcular $w \\equiv s^{-1} \\pmod{n}$\\;\n",
    "- 6) Obter $u_1 \\equiv HASH(mensagem) \\cdot w \\pmod{n}$\\;\n",
    "- 7) Obter $u_2 \\equiv r \\cdot w \\pmod{n}$\\;\n",
    "- 8) Calcular o ponto $(x_1, y_1) = u_1 \\cdot G + u_2 \\cdot pubKey$;\n",
    "    - Se $(x_1, y_1) = O$ (elemento identidade), a assinatura é inválida;\n",
    "    - __break__;\n",
    "- 9) A assinatura é válida quando $r \\equiv x_1 \\pmod n$;"
   ]
  },
  {
   "cell_type": "markdown",
   "metadata": {},
   "source": [
    "### __1)__ Definir uma curva elíptica exemplo para o problema, de módulo _p_ __primo__ ${F}_p$ com ordem __primo__.\n",
    "\n",
    "Como queremos que este algoritmo seja capaz de codificar mensagens até __256 bits de segurança__ (basta obervar pelo uso da função de hash SHA3 com 256 bits), decidiu-se criar uma curva elíptica que fosse adequada para aplicação conjunta com o ECDSA e que respeite a condição de até 256 bits de segurança nas mensagens do sistema. Por isso, escolheu-se a curva elíptica __SECP256R1__ para aplicação neste trabalho.\n",
    "\n",
    "Referência webgrafia da curva SECP256R1: https://www.herongyang.com/EC-Cryptography/Curve-secp256r1-for-256-Bit-ECC-Keys.html e https://neuromancer.sk/std/secg/secp256r1#\n",
    "\n",
    "A curva elíptica __SECP256R1__ é altamente aplicada em Bitcoin, juntamente o algoritmo de critptografia ECDSA, tendo as seguintes características:\n",
    "\n",
    "- de módulo primo __p__ = 115792089210356248762697446949407573530086143415290314195533631308867097853951 ($\\mathbb{F}_n$);\n",
    "- um ponto gerador da curva __G__ {x = 48439561293906451759052585252797914202762949526041747995844080717082404635286, y = 36134250956749795798585127919587881956611106672985015071877198253568414405109}.\n",
    "\n",
    "Expressão geral da curva elíptica: $y^2 =x^3+ax+b \\space mod \\space p$.\n",
    "\n",
    "Para os coeficentes usados por __SECP256R1__:\n",
    "\n",
    "a = 115792089210356248762697446949407573530086143415290314195533631308867097853948\n",
    "\n",
    "b = 41058363725152142129326129780047268409114441015993725554835256314039467401291\n",
    "\n",
    "ficamos com uma curva elíptica de expressão: $y^2 = x^3 + 115792089210356248762697446949407573530086143415290314195533631308867097853948*x + 41058363725152142129326129780047268409114441015993725554835256314039467401291 \\space mod \\space 115792089210356248762697446949407573530086143415290314195533631308867097853951$.\n"
   ]
  },
  {
   "cell_type": "code",
   "execution_count": 1,
   "metadata": {},
   "outputs": [
    {
     "data": {
      "text/plain": [
       "Elliptic Curve defined by y^2 = x^3 + 115792089210356248762697446949407573530086143415290314195533631308867097853948*x + 41058363725152142129326129780047268409114441015993725554835256314039467401291 over Ring of integers modulo 115792089210356248762697446949407573530086143415290314195533631308867097853951"
      ]
     },
     "execution_count": 1,
     "metadata": {},
     "output_type": "execute_result"
    }
   ],
   "source": [
    "p = 115792089210356248762697446949407573530086143415290314195533631308867097853951 # nº primo\n",
    "Zp = IntegerModRing(p)\n",
    "\n",
    "# coeficientes da curva elíptica\n",
    "a = 115792089210356248762697446949407573530086143415290314195533631308867097853948\n",
    "b = 41058363725152142129326129780047268409114441015993725554835256314039467401291\n",
    "\n",
    "E = EllipticCurve(Zp, [a, b])\n",
    "E"
   ]
  },
  {
   "cell_type": "markdown",
   "metadata": {},
   "source": [
    "__2)__ Veriifcar a ordem, $n$, da curva elíptica, que tem de ser __primo__."
   ]
  },
  {
   "cell_type": "code",
   "execution_count": 2,
   "metadata": {
    "scrolled": true
   },
   "outputs": [
    {
     "data": {
      "text/plain": [
       "115792089210356248762697446949407573529996955224135760342422259061068512044369"
      ]
     },
     "execution_count": 2,
     "metadata": {},
     "output_type": "execute_result"
    }
   ],
   "source": [
    "E.order()"
   ]
  },
  {
   "cell_type": "code",
   "execution_count": 3,
   "metadata": {},
   "outputs": [
    {
     "data": {
      "text/plain": [
       "True"
      ]
     },
     "execution_count": 3,
     "metadata": {},
     "output_type": "execute_result"
    }
   ],
   "source": [
    "is_prime(E.order())"
   ]
  },
  {
   "cell_type": "markdown",
   "metadata": {},
   "source": [
    "__3)__ Obter um ponto gerador da curva (G  pré-definida pela curva SECP256R1)"
   ]
  },
  {
   "cell_type": "code",
   "execution_count": 4,
   "metadata": {},
   "outputs": [
    {
     "data": {
      "text/plain": [
       "(48439561293906451759052585252797914202762949526041747995844080717082404635286 : 36134250956749795798585127919587881956611106672985015071877198253568414405109 : 1)"
      ]
     },
     "execution_count": 4,
     "metadata": {},
     "output_type": "execute_result"
    }
   ],
   "source": [
    "G = E(48439561293906451759052585252797914202762949526041747995844080717082404635286, 36134250956749795798585127919587881956611106672985015071877198253568414405109)\n",
    "G"
   ]
  },
  {
   "cell_type": "code",
   "execution_count": 5,
   "metadata": {},
   "outputs": [
    {
     "data": {
      "text/plain": [
       "115792089210356248762697446949407573529996955224135760342422259061068512044369"
      ]
     },
     "execution_count": 5,
     "metadata": {},
     "output_type": "execute_result"
    }
   ],
   "source": [
    "n = G.order() # ordem igual à da cruva elíptica definida\n",
    "n"
   ]
  },
  {
   "cell_type": "code",
   "execution_count": 6,
   "metadata": {},
   "outputs": [
    {
     "data": {
      "text/plain": [
       "True"
      ]
     },
     "execution_count": 6,
     "metadata": {},
     "output_type": "execute_result"
    }
   ],
   "source": [
    "n == E.order() # confirma-se que G é ponto gerador da curva elíptica"
   ]
  },
  {
   "cell_type": "markdown",
   "metadata": {},
   "source": [
    "__4)__ Criar a chave privada aleatoriamente entre o intervalo $[1, n-1]$."
   ]
  },
  {
   "cell_type": "code",
   "execution_count": 7,
   "metadata": {},
   "outputs": [
    {
     "data": {
      "text/plain": [
       "51618941118438689581961356997596064718315037041345235195354307221126195398097"
      ]
     },
     "execution_count": 7,
     "metadata": {},
     "output_type": "execute_result"
    }
   ],
   "source": [
    "privKey = ZZ.random_element(1, n-1)\n",
    "privKey"
   ]
  },
  {
   "cell_type": "code",
   "execution_count": 8,
   "metadata": {},
   "outputs": [
    {
     "data": {
      "text/plain": [
       "(0 : 1 : 0)"
      ]
     },
     "execution_count": 8,
     "metadata": {},
     "output_type": "execute_result"
    }
   ],
   "source": [
    "# elemento identidade\n",
    "O = n*G\n",
    "O"
   ]
  },
  {
   "cell_type": "markdown",
   "metadata": {},
   "source": [
    "__5)__ Criar a chave pública (ponto da curva), a partir do ponto gerador da curva G"
   ]
  },
  {
   "cell_type": "code",
   "execution_count": 9,
   "metadata": {},
   "outputs": [
    {
     "data": {
      "text/plain": [
       "(20656924604471837684249507890977932492835350587007348613201295763687925820039 : 47421052619301808015418340172657245955794505167063260664314998633513873917467 : 1)"
      ]
     },
     "execution_count": 9,
     "metadata": {},
     "output_type": "execute_result"
    }
   ],
   "source": [
    "pubKey = privKey * G\n",
    "pubKey"
   ]
  },
  {
   "cell_type": "markdown",
   "metadata": {},
   "source": [
    "__6)__ Vamos definir uma mensagem que Alice quer enviar para Bob"
   ]
  },
  {
   "cell_type": "code",
   "execution_count": 10,
   "metadata": {},
   "outputs": [],
   "source": [
    "mens = b\"Nobody expects the Spanish Inquisition\""
   ]
  },
  {
   "cell_type": "markdown",
   "metadata": {},
   "source": [
    "__7)__ Obter a \"hash\" da mensagem, usando a função de hash SHA3 com 256 bits."
   ]
  },
  {
   "cell_type": "code",
   "execution_count": 11,
   "metadata": {},
   "outputs": [
    {
     "data": {
      "text/plain": [
       "36906822241210867014776754913837566155108892467980493944565876131413157803075"
      ]
     },
     "execution_count": 11,
     "metadata": {},
     "output_type": "execute_result"
    }
   ],
   "source": [
    "import hashlib\n",
    "\n",
    "HH = hashlib.sha256(mens).hexdigest()\n",
    "z = ZZ('0x'+HH)\n",
    "z"
   ]
  },
  {
   "cell_type": "markdown",
   "metadata": {},
   "source": [
    "__8)__ Calcular o par ($r$, $s$) da assinatura digital, ou seja, cifrar a mensagem antes de enviar para o Bob"
   ]
  },
  {
   "cell_type": "code",
   "execution_count": 12,
   "metadata": {},
   "outputs": [
    {
     "data": {
      "text/plain": [
       "108921329171944491248263884777711651568849969702397774920775814571506768720541"
      ]
     },
     "execution_count": 12,
     "metadata": {},
     "output_type": "execute_result"
    }
   ],
   "source": [
    "k = ZZ.random_element(1, n-1)\n",
    "k"
   ]
  },
  {
   "cell_type": "code",
   "execution_count": 13,
   "metadata": {},
   "outputs": [
    {
     "data": {
      "text/plain": [
       "(103238776674795971235614296815023657170037018151015478129681992889445777856552 : 59264467711954751220598518857755403887122103230834435068369332609900327245686 : 1)"
      ]
     },
     "execution_count": 13,
     "metadata": {},
     "output_type": "execute_result"
    }
   ],
   "source": [
    "# Ponto na curva\n",
    "P = k * G\n",
    "P"
   ]
  },
  {
   "cell_type": "code",
   "execution_count": 14,
   "metadata": {},
   "outputs": [
    {
     "data": {
      "text/plain": [
       "103238776674795971235614296815023657170037018151015478129681992889445777856552"
      ]
     },
     "execution_count": 14,
     "metadata": {},
     "output_type": "execute_result"
    }
   ],
   "source": [
    "r=mod(P[0], n)\n",
    "r"
   ]
  },
  {
   "cell_type": "markdown",
   "metadata": {},
   "source": [
    "Como o r != 0, podemos avançar para o próximo cálculo:"
   ]
  },
  {
   "cell_type": "code",
   "execution_count": 15,
   "metadata": {},
   "outputs": [
    {
     "data": {
      "text/plain": [
       "56032535769656753484977299212059895677396409968579393909954086631752611922608"
      ]
     },
     "execution_count": 15,
     "metadata": {},
     "output_type": "execute_result"
    }
   ],
   "source": [
    "s = mod(inverse_mod(k, n)*(z + privKey * r), n)\n",
    "s"
   ]
  },
  {
   "cell_type": "markdown",
   "metadata": {},
   "source": [
    "Também $s$ != 0, pelo que obtivemos a assinatura digital ($r$, $s$) será enviada para o Bob:"
   ]
  },
  {
   "cell_type": "code",
   "execution_count": 16,
   "metadata": {},
   "outputs": [
    {
     "data": {
      "text/plain": [
       "(103238776674795971235614296815023657170037018151015478129681992889445777856552,\n",
       " 56032535769656753484977299212059895677396409968579393909954086631752611922608)"
      ]
     },
     "execution_count": 16,
     "metadata": {},
     "output_type": "execute_result"
    }
   ],
   "source": [
    "(r, s)"
   ]
  },
  {
   "cell_type": "markdown",
   "metadata": {},
   "source": [
    "__9)__ Bob tem de verificar se a assinatura recebida é válida.\n",
    "\n",
    "Bob precisa de ter acesso à chave-pública, curva elíptica e à mensagem original para verificar a assinatura da Alice."
   ]
  },
  {
   "cell_type": "code",
   "execution_count": 17,
   "metadata": {},
   "outputs": [
    {
     "data": {
      "text/plain": [
       "True"
      ]
     },
     "execution_count": 17,
     "metadata": {},
     "output_type": "execute_result"
    }
   ],
   "source": [
    "not(pubKey is O) # coordenadas de pubKey válidas"
   ]
  },
  {
   "cell_type": "code",
   "execution_count": 18,
   "metadata": {},
   "outputs": [
    {
     "data": {
      "text/plain": [
       "True"
      ]
     },
     "execution_count": 18,
     "metadata": {},
     "output_type": "execute_result"
    }
   ],
   "source": [
    "# verificar se a chave pública pertence à curva elíptica\n",
    "x = pubKey[0]\n",
    "y = pubKey[1]\n",
    "(y**2) % p == (x**3 + a*x + b) % p"
   ]
  },
  {
   "cell_type": "code",
   "execution_count": 19,
   "metadata": {},
   "outputs": [
    {
     "data": {
      "text/plain": [
       "True"
      ]
     },
     "execution_count": 19,
     "metadata": {},
     "output_type": "execute_result"
    }
   ],
   "source": [
    "n*pubKey == O # verificar se n*Q é igual ao elemento identificador"
   ]
  },
  {
   "cell_type": "code",
   "execution_count": 20,
   "metadata": {},
   "outputs": [
    {
     "data": {
      "text/plain": [
       "True"
      ]
     },
     "execution_count": 20,
     "metadata": {},
     "output_type": "execute_result"
    }
   ],
   "source": [
    "1 <= r <= n-1 and 1 <= s <= n-1"
   ]
  },
  {
   "cell_type": "markdown",
   "metadata": {},
   "source": [
    "Caso algumas das condições anteriores devolvê-se o valor \"_False_\", Bob podia concluir imediatamente que a assinatura que recebeu da Alice era inválida."
   ]
  },
  {
   "cell_type": "code",
   "execution_count": 21,
   "metadata": {},
   "outputs": [
    {
     "data": {
      "text/plain": [
       "36906822241210867014776754913837566155108892467980493944565876131413157803075"
      ]
     },
     "execution_count": 21,
     "metadata": {},
     "output_type": "execute_result"
    }
   ],
   "source": [
    "HH_Bob = hashlib.sha256(mens).hexdigest() # usa-se a mesma função de hash que a Alice aplicou\n",
    "z_Bob = ZZ('0x'+HH_Bob)\n",
    "z_Bob"
   ]
  },
  {
   "cell_type": "code",
   "execution_count": 22,
   "metadata": {},
   "outputs": [
    {
     "data": {
      "text/plain": [
       "72588597651539317021072227046078153031801525523449709874758641605924301767515"
      ]
     },
     "execution_count": 22,
     "metadata": {},
     "output_type": "execute_result"
    }
   ],
   "source": [
    "from gmpy2 import mpz\n",
    "\n",
    "w = inverse_mod(mpz(s), int(n)) # inversa de s, módulo n ()\n",
    "w"
   ]
  },
  {
   "cell_type": "code",
   "execution_count": 23,
   "metadata": {},
   "outputs": [
    {
     "data": {
      "text/plain": [
       "31437790731975584752402079354272134937548074102489108292790209416849601709548"
      ]
     },
     "execution_count": 23,
     "metadata": {},
     "output_type": "execute_result"
    }
   ],
   "source": [
    "u1 = Integer((z_Bob * w) % n)\n",
    "u1"
   ]
  },
  {
   "cell_type": "code",
   "execution_count": 24,
   "metadata": {},
   "outputs": [
    {
     "data": {
      "text/plain": [
       "114450416645227272688866324319260304988059188058634936289505498427768287368325"
      ]
     },
     "execution_count": 24,
     "metadata": {},
     "output_type": "execute_result"
    }
   ],
   "source": [
    "u2 = Integer((r * w)% n)\n",
    "u2"
   ]
  },
  {
   "cell_type": "code",
   "execution_count": 25,
   "metadata": {},
   "outputs": [
    {
     "data": {
      "text/plain": [
       "(103238776674795971235614296815023657170037018151015478129681992889445777856552 : 59264467711954751220598518857755403887122103230834435068369332609900327245686 : 1)"
      ]
     },
     "execution_count": 25,
     "metadata": {},
     "output_type": "execute_result"
    }
   ],
   "source": [
    "# ponto da curva\n",
    "ponto = (u1*G) + (u2*pubKey)\n",
    "ponto"
   ]
  },
  {
   "cell_type": "code",
   "execution_count": 26,
   "metadata": {},
   "outputs": [
    {
     "data": {
      "text/plain": [
       "True"
      ]
     },
     "execution_count": 26,
     "metadata": {},
     "output_type": "execute_result"
    }
   ],
   "source": [
    "# vamos verificar se o ponto da curva é igual ao elemento identidade da curva elíptica\n",
    "not(ponto == O)"
   ]
  },
  {
   "cell_type": "code",
   "execution_count": 27,
   "metadata": {},
   "outputs": [
    {
     "data": {
      "text/plain": [
       "True"
      ]
     },
     "execution_count": 27,
     "metadata": {},
     "output_type": "execute_result"
    }
   ],
   "source": [
    "x1 = ponto[0]\n",
    "mod(x1, n) == r"
   ]
  },
  {
   "cell_type": "markdown",
   "metadata": {},
   "source": [
    "Com o resultado anterior, Bob pode confirmar que a assinatura recebida é __VÁLIDA__!\n",
    "\n",
    "Deste modo, mostramos um exemplo da implementação de ECDSA que nos permite observar as etapas necessárias para tal."
   ]
  }
 ],
 "metadata": {
  "kernelspec": {
   "display_name": "SageMath 9.3",
   "language": "sage",
   "name": "sagemath"
  },
  "language_info": {
   "codemirror_mode": {
    "name": "ipython",
    "version": 3
   },
   "file_extension": ".py",
   "mimetype": "text/x-python",
   "name": "python",
   "nbconvert_exporter": "python",
   "pygments_lexer": "ipython3",
   "version": "3.7.10"
  }
 },
 "nbformat": 4,
 "nbformat_minor": 4
}

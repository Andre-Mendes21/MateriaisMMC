{
 "cells": [
  {
   "cell_type": "markdown",
   "metadata": {},
   "source": [
    "# Trabalho Prático 2 - Temas de Álgebra\n",
    "\n",
    "### Mestrado em Matemática e Computação, Ano Letivo 2023-24\n",
    "\n",
    "-------------------------------------\n",
    "\n",
    "#### Enunciado do trabalho\n",
    "\n",
    "Considere uma matriz A de característica máxima, 4x3, e b um vector 4x1, aleatórios. Assuma que car(A)<car[A | b], ou de forma equivalente, que det([A | b]) != 0.\n",
    "\n",
    "Pode, por exemplo, usar\n",
    "https://sagecell.sagemath.org/?z=eJxzVLBVKErMS8nPjc9NLCnKrNCIitIx0THW5OVKwi5lCJQqKMrMK9FISS3RSMrJT86GyRvqGOlEO-ooJMVqairaGoAVppaUVMZD1INkgGI5iSWpFRqOmjoKEFaSJgDfnSj3&lang=sage&interacts=eJyLjgUAARUAuQ==\n",
    "\n",
    "(várias vezes, se não lhe agradar o resultado obtido)\n",
    "\n",
    "Use reflexões elementares ou rotações de Givens para encontrar uma base ortonormada do espaço das colunas de A.\n",
    "Usando a base ortonormada obtida, encontre a solução no sentido dos mínimos quadrados de Ax=b.\n",
    "\n",
    "------------------------------------------------"
   ]
  },
  {
   "cell_type": "markdown",
   "metadata": {},
   "source": [
    "### Resolução do trabalho\n",
    "\n",
    "Referências webgráficas:\n",
    "\n",
    "- https://www.ime.unicamp.br/~marcia/AlgebraLinear/fat_QR%28householder%29.html\n",
    "- https://www.ime.unicamp.br/~marcia/AlgebraLinear/quadrados_minimos.html\n",
    "- https://pages.stat.wisc.edu/~bwu62/771/businger1965.pdf"
   ]
  },
  {
   "cell_type": "markdown",
   "metadata": {},
   "source": [
    "Geram-se duas matriz aleatória A e b:"
   ]
  },
  {
   "cell_type": "code",
   "execution_count": 1,
   "metadata": {},
   "outputs": [
    {
     "name": "stdout",
     "output_type": "stream",
     "text": [
      "True\n"
     ]
    },
    {
     "data": {
      "text/html": [
       "<html><script type=\"math/tex; mode=display\">\\newcommand{\\Bold}[1]{\\mathbf{#1}}\\left(\\begin{array}{rrr}\n",
       "-1 & -4 & 2 \\\\\n",
       "1 & 0 & 0 \\\\\n",
       "-2 & 3 & -1 \\\\\n",
       "1 & 0 & 1\n",
       "\\end{array}\\right) \\left(\\begin{array}{r}\n",
       "-1 \\\\\n",
       "0 \\\\\n",
       "1 \\\\\n",
       "24\n",
       "\\end{array}\\right)</script></html>"
      ],
      "text/latex": [
       "$$\\newcommand{\\Bold}[1]{\\mathbf{#1}}\\left(\\begin{array}{rrr}\n",
       "-1 & -4 & 2 \\\\\n",
       "1 & 0 & 0 \\\\\n",
       "-2 & 3 & -1 \\\\\n",
       "1 & 0 & 1\n",
       "\\end{array}\\right) \\left(\\begin{array}{r}\n",
       "-1 \\\\\n",
       "0 \\\\\n",
       "1 \\\\\n",
       "24\n",
       "\\end{array}\\right)$$"
      ],
      "text/plain": [
       "[-1 -4  2]\n",
       "[ 1  0  0]\n",
       "[-2  3 -1]\n",
       "[ 1  0  1] [-1]\n",
       "[ 0]\n",
       "[ 1]\n",
       "[24]"
      ]
     },
     "metadata": {},
     "output_type": "display_data"
    },
    {
     "data": {
      "text/plain": [
       "(\\left(\\begin{array}{rrr}\n",
       " -1 & -4 & 2 \\\\\n",
       " 1 & 0 & 0 \\\\\n",
       " -2 & 3 & -1 \\\\\n",
       " 1 & 0 & 1\n",
       " \\end{array}\\right),\n",
       " \\left(\\begin{array}{r}\n",
       " -1 \\\\\n",
       " 0 \\\\\n",
       " 1 \\\\\n",
       " 24\n",
       " \\end{array}\\right))"
      ]
     },
     "execution_count": 1,
     "metadata": {},
     "output_type": "execute_result"
    }
   ],
   "source": [
    "A = random_matrix(ZZ,4,3)\n",
    "b = random_matrix(ZZ,4,1)\n",
    "print(det(block_matrix(1,2,[A, b]))!=0)\n",
    "pretty_print(A, b)\n",
    "latex(A), latex(b)"
   ]
  },
  {
   "cell_type": "code",
   "execution_count": 2,
   "metadata": {},
   "outputs": [
    {
     "data": {
      "text/plain": [
       "3"
      ]
     },
     "execution_count": 2,
     "metadata": {},
     "output_type": "execute_result"
    }
   ],
   "source": [
    "# Característica da matriz A (máximo 4x3)\n",
    "rank(A)"
   ]
  },
  {
   "cell_type": "markdown",
   "metadata": {},
   "source": [
    "A matriz $A$ tem característica igual a 3 (equivalente ao seu valor máximo), com 3 vetores/colunas no espaço de A."
   ]
  },
  {
   "cell_type": "code",
   "execution_count": 3,
   "metadata": {},
   "outputs": [
    {
     "data": {
      "text/html": [
       "<html><script type=\"math/tex; mode=display\">\\newcommand{\\Bold}[1]{\\mathbf{#1}}\\left(\\begin{array}{rrr|r}\n",
       "-1 & -4 & 2 & -1 \\\\\n",
       "1 & 0 & 0 & 0 \\\\\n",
       "-2 & 3 & -1 & 1 \\\\\n",
       "1 & 0 & 1 & 24\n",
       "\\end{array}\\right)</script></html>"
      ],
      "text/latex": [
       "$$\\newcommand{\\Bold}[1]{\\mathbf{#1}}\\left(\\begin{array}{rrr|r}\n",
       "-1 & -4 & 2 & -1 \\\\\n",
       "1 & 0 & 0 & 0 \\\\\n",
       "-2 & 3 & -1 & 1 \\\\\n",
       "1 & 0 & 1 & 24\n",
       "\\end{array}\\right)$$"
      ],
      "text/plain": [
       "[-1 -4  2|-1]\n",
       "[ 1  0  0| 0]\n",
       "[-2  3 -1| 1]\n",
       "[ 1  0  1|24]"
      ]
     },
     "metadata": {},
     "output_type": "display_data"
    }
   ],
   "source": [
    "Ab = block_matrix(1,2,[A, b])\n",
    "pretty_print(Ab)"
   ]
  },
  {
   "cell_type": "code",
   "execution_count": 4,
   "metadata": {},
   "outputs": [
    {
     "data": {
      "text/plain": [
       "4"
      ]
     },
     "execution_count": 4,
     "metadata": {},
     "output_type": "execute_result"
    }
   ],
   "source": [
    "rank(Ab)"
   ]
  },
  {
   "cell_type": "code",
   "execution_count": 5,
   "metadata": {},
   "outputs": [
    {
     "data": {
      "text/plain": [
       "47"
      ]
     },
     "execution_count": 5,
     "metadata": {},
     "output_type": "execute_result"
    }
   ],
   "source": [
    "det(Ab)"
   ]
  },
  {
   "cell_type": "markdown",
   "metadata": {},
   "source": [
    "Verifica-se que $car(A)<car[A | b]$ e que $det([A | b]) != 0$."
   ]
  },
  {
   "cell_type": "markdown",
   "metadata": {},
   "source": [
    "Agora, vamos aplicar __reflexões elementares__ (transformações de Householder) com o objetivo de obter uma base ortonormada do espaço das colunas de A (originando uma fatorização $A = QR$), para que no fim se possa resolver a equação $Ax=b$ através da técnica dos mínimos quadrados. Como a matriz A possui dimensão 4x3, ir-se-ão aplicar 3 vezes as rotações elementares."
   ]
  },
  {
   "cell_type": "code",
   "execution_count": 6,
   "metadata": {},
   "outputs": [],
   "source": [
    "mu = 1\n",
    "\n",
    "# matriz identidade de tamanho igual ao compriemnto de cada coluna/vetor do espaço de A\n",
    "I4 = identity_matrix(4)"
   ]
  },
  {
   "cell_type": "markdown",
   "metadata": {},
   "source": [
    "- Cálculo da refelxão elementar para a 1ª coluna da matriz A"
   ]
  },
  {
   "cell_type": "code",
   "execution_count": 7,
   "metadata": {},
   "outputs": [
    {
     "data": {
      "text/plain": [
       "[-1]\n",
       "[ 1]\n",
       "[-2]\n",
       "[ 1]"
      ]
     },
     "execution_count": 7,
     "metadata": {},
     "output_type": "execute_result"
    }
   ],
   "source": [
    "a1 = A[:,0]\n",
    "a1"
   ]
  },
  {
   "cell_type": "code",
   "execution_count": 8,
   "metadata": {},
   "outputs": [
    {
     "data": {
      "text/plain": [
       "[1]\n",
       "[0]\n",
       "[0]\n",
       "[0]"
      ]
     },
     "execution_count": 8,
     "metadata": {},
     "output_type": "execute_result"
    }
   ],
   "source": [
    "e1 = I4[:,0]\n",
    "e1"
   ]
  },
  {
   "cell_type": "code",
   "execution_count": 9,
   "metadata": {},
   "outputs": [
    {
     "data": {
      "text/plain": [
       "2.6457513110645907"
      ]
     },
     "execution_count": 9,
     "metadata": {},
     "output_type": "execute_result"
    }
   ],
   "source": [
    "norma_a1 = a1.norm()\n",
    "norma_a1"
   ]
  },
  {
   "cell_type": "code",
   "execution_count": 10,
   "metadata": {},
   "outputs": [
    {
     "data": {
      "text/html": [
       "<html><script type=\"math/tex; mode=display\">\\newcommand{\\Bold}[1]{\\mathbf{#1}}\\left(\\begin{array}{r}\n",
       "1.6457513110645907 \\\\\n",
       "1.0 \\\\\n",
       "-2.0 \\\\\n",
       "1.0\n",
       "\\end{array}\\right) \\left(\\begin{array}{rrrr}\n",
       "0.3779644730092271 & -0.37796447300922736 & 0.7559289460184547 & -0.37796447300922736 \\\\\n",
       "-0.37796447300922736 & 0.7703392544984621 & 0.45932149100307584 & -0.22966074550153792 \\\\\n",
       "0.7559289460184547 & 0.45932149100307584 & 0.08135701799384831 & 0.45932149100307584 \\\\\n",
       "-0.37796447300922736 & -0.22966074550153792 & 0.45932149100307584 & 0.7703392544984621\n",
       "\\end{array}\\right)</script></html>"
      ],
      "text/latex": [
       "$$\\newcommand{\\Bold}[1]{\\mathbf{#1}}\\left(\\begin{array}{r}\n",
       "1.6457513110645907 \\\\\n",
       "1.0 \\\\\n",
       "-2.0 \\\\\n",
       "1.0\n",
       "\\end{array}\\right) \\left(\\begin{array}{rrrr}\n",
       "0.3779644730092271 & -0.37796447300922736 & 0.7559289460184547 & -0.37796447300922736 \\\\\n",
       "-0.37796447300922736 & 0.7703392544984621 & 0.45932149100307584 & -0.22966074550153792 \\\\\n",
       "0.7559289460184547 & 0.45932149100307584 & 0.08135701799384831 & 0.45932149100307584 \\\\\n",
       "-0.37796447300922736 & -0.22966074550153792 & 0.45932149100307584 & 0.7703392544984621\n",
       "\\end{array}\\right)$$"
      ],
      "text/plain": [
       "[1.6457513110645907]\n",
       "[               1.0]\n",
       "[              -2.0]\n",
       "[               1.0] [  0.3779644730092271 -0.37796447300922736   0.7559289460184547 -0.37796447300922736]\n",
       "[-0.37796447300922736   0.7703392544984621  0.45932149100307584 -0.22966074550153792]\n",
       "[  0.7559289460184547  0.45932149100307584  0.08135701799384831  0.45932149100307584]\n",
       "[-0.37796447300922736 -0.22966074550153792  0.45932149100307584   0.7703392544984621]"
      ]
     },
     "metadata": {},
     "output_type": "display_data"
    }
   ],
   "source": [
    "u1 = a1+norma_a1*e1\n",
    "\n",
    "# Primeira matriz de reflexão\n",
    "R1= I4-2*u1*transpose(u1)/(norm(u1)**2)\n",
    "pretty_print(u1, R1)"
   ]
  },
  {
   "cell_type": "code",
   "execution_count": 11,
   "metadata": {},
   "outputs": [
    {
     "data": {
      "text/html": [
       "<html><script type=\"math/tex; mode=display\">\\newcommand{\\Bold}[1]{\\mathbf{#1}}\\left(\\begin{array}{rrr}\n",
       "-2.645751311064591 & 0.7559289460184558 & -0.3779644730092279 \\\\\n",
       "-1.1102230246251565 \\times 10^{-16} & 2.889822365046137 & -1.4449111825230685 \\\\\n",
       "3.3306690738754696 \\times 10^{-16} & -2.779644730092274 & 1.889822365046137 \\\\\n",
       "-1.1102230246251565 \\times 10^{-16} & 2.889822365046137 & -0.4449111825230686\n",
       "\\end{array}\\right)</script></html>"
      ],
      "text/latex": [
       "$$\\newcommand{\\Bold}[1]{\\mathbf{#1}}\\left(\\begin{array}{rrr}\n",
       "-2.645751311064591 & 0.7559289460184558 & -0.3779644730092279 \\\\\n",
       "-1.1102230246251565 \\times 10^{-16} & 2.889822365046137 & -1.4449111825230685 \\\\\n",
       "3.3306690738754696 \\times 10^{-16} & -2.779644730092274 & 1.889822365046137 \\\\\n",
       "-1.1102230246251565 \\times 10^{-16} & 2.889822365046137 & -0.4449111825230686\n",
       "\\end{array}\\right)$$"
      ],
      "text/plain": [
       "[     -2.645751311064591      0.7559289460184558     -0.3779644730092279]\n",
       "[-1.1102230246251565e-16       2.889822365046137     -1.4449111825230685]\n",
       "[ 3.3306690738754696e-16      -2.779644730092274       1.889822365046137]\n",
       "[-1.1102230246251565e-16       2.889822365046137     -0.4449111825230686]"
      ]
     },
     "metadata": {},
     "output_type": "display_data"
    }
   ],
   "source": [
    "A2=R1*A\n",
    "pretty_print(A2)"
   ]
  },
  {
   "cell_type": "markdown",
   "metadata": {},
   "source": [
    "- Cálculos das reflexões elementares para a primeira coluna da matriz $A2sub$"
   ]
  },
  {
   "cell_type": "code",
   "execution_count": 12,
   "metadata": {},
   "outputs": [
    {
     "data": {
      "text/plain": [
       "[  2.889822365046137 -1.4449111825230685]\n",
       "[ -2.779644730092274   1.889822365046137]\n",
       "[  2.889822365046137 -0.4449111825230686]"
      ]
     },
     "execution_count": 12,
     "metadata": {},
     "output_type": "execute_result"
    }
   ],
   "source": [
    "A2sub = A2[1:4, 1:4]\n",
    "A2sub"
   ]
  },
  {
   "cell_type": "code",
   "execution_count": 13,
   "metadata": {},
   "outputs": [
    {
     "data": {
      "text/plain": [
       "[ 2.889822365046137]\n",
       "[-2.779644730092274]\n",
       "[ 2.889822365046137]"
      ]
     },
     "execution_count": 13,
     "metadata": {},
     "output_type": "execute_result"
    }
   ],
   "source": [
    "a2 = A2sub[:,0]\n",
    "a2"
   ]
  },
  {
   "cell_type": "code",
   "execution_count": 14,
   "metadata": {},
   "outputs": [
    {
     "data": {
      "text/plain": [
       "4.9425268262874855"
      ]
     },
     "execution_count": 14,
     "metadata": {},
     "output_type": "execute_result"
    }
   ],
   "source": [
    "norma_a2 = a2.norm()\n",
    "norma_a2"
   ]
  },
  {
   "cell_type": "code",
   "execution_count": 15,
   "metadata": {},
   "outputs": [
    {
     "data": {
      "text/plain": [
       "[-2.0527044612413485]\n",
       "[ -2.779644730092274]\n",
       "[  2.889822365046137]"
      ]
     },
     "execution_count": 15,
     "metadata": {},
     "output_type": "execute_result"
    }
   ],
   "source": [
    "# matriz identidade\n",
    "I3 = identity_matrix(3)\n",
    "\n",
    "u2 = a2-norm(a2)*I3[:,0]\n",
    "u2"
   ]
  },
  {
   "cell_type": "code",
   "execution_count": 16,
   "metadata": {},
   "outputs": [
    {
     "data": {
      "text/html": [
       "<html><script type=\"math/tex; mode=display\">\\newcommand{\\Bold}[1]{\\mathbf{#1}}\\left(\\begin{array}{rrr}\n",
       "0.5846852160065643 & -0.5623934533462446 & 0.5846852160065642 \\\\\n",
       "-0.5623934533462446 & 0.2384417589822332 & 0.7917443597568246 \\\\\n",
       "0.5846852160065642 & 0.7917443597568246 & 0.1768730250112024\n",
       "\\end{array}\\right)</script></html>"
      ],
      "text/latex": [
       "$$\\newcommand{\\Bold}[1]{\\mathbf{#1}}\\left(\\begin{array}{rrr}\n",
       "0.5846852160065643 & -0.5623934533462446 & 0.5846852160065642 \\\\\n",
       "-0.5623934533462446 & 0.2384417589822332 & 0.7917443597568246 \\\\\n",
       "0.5846852160065642 & 0.7917443597568246 & 0.1768730250112024\n",
       "\\end{array}\\right)$$"
      ],
      "text/plain": [
       "[ 0.5846852160065643 -0.5623934533462446  0.5846852160065642]\n",
       "[-0.5623934533462446  0.2384417589822332  0.7917443597568246]\n",
       "[ 0.5846852160065642  0.7917443597568246  0.1768730250112024]"
      ]
     },
     "metadata": {},
     "output_type": "display_data"
    }
   ],
   "source": [
    "R2sub = I3-2*u2*transpose(u2)/(norm(u2)**2)\n",
    "pretty_print(R2sub)"
   ]
  },
  {
   "cell_type": "code",
   "execution_count": 17,
   "metadata": {},
   "outputs": [
    {
     "data": {
      "text/plain": [
       "[     4.942526826287486     -2.167774923810301]\n",
       "[ 6.402121107990518e-16     0.9109652392479406]\n",
       "[-7.194965608196698e-16      0.572745204889615]"
      ]
     },
     "execution_count": 17,
     "metadata": {},
     "output_type": "execute_result"
    }
   ],
   "source": [
    "R2sub*A2sub"
   ]
  },
  {
   "cell_type": "code",
   "execution_count": 18,
   "metadata": {},
   "outputs": [
    {
     "data": {
      "text/html": [
       "<html><script type=\"math/tex; mode=display\">\\newcommand{\\Bold}[1]{\\mathbf{#1}}\\left(\\begin{array}{r|rrr}\n",
       "1.0 & 0.0 & 0.0 & 0.0 \\\\\n",
       "\\hline\n",
       " 0.0 & 0.5846852160065643 & -0.5623934533462446 & 0.5846852160065642 \\\\\n",
       "0.0 & -0.5623934533462446 & 0.2384417589822332 & 0.7917443597568246 \\\\\n",
       "0.0 & 0.5846852160065642 & 0.7917443597568246 & 0.1768730250112024\n",
       "\\end{array}\\right)</script></html>"
      ],
      "text/latex": [
       "$$\\newcommand{\\Bold}[1]{\\mathbf{#1}}\\left(\\begin{array}{r|rrr}\n",
       "1.0 & 0.0 & 0.0 & 0.0 \\\\\n",
       "\\hline\n",
       " 0.0 & 0.5846852160065643 & -0.5623934533462446 & 0.5846852160065642 \\\\\n",
       "0.0 & -0.5623934533462446 & 0.2384417589822332 & 0.7917443597568246 \\\\\n",
       "0.0 & 0.5846852160065642 & 0.7917443597568246 & 0.1768730250112024\n",
       "\\end{array}\\right)$$"
      ],
      "text/plain": [
       "[                1.0|                0.0                 0.0                 0.0]\n",
       "[-------------------+-----------------------------------------------------------]\n",
       "[                0.0| 0.5846852160065643 -0.5623934533462446  0.5846852160065642]\n",
       "[                0.0|-0.5623934533462446  0.2384417589822332  0.7917443597568246]\n",
       "[                0.0| 0.5846852160065642  0.7917443597568246  0.1768730250112024]"
      ]
     },
     "metadata": {},
     "output_type": "display_data"
    }
   ],
   "source": [
    "# Segunda matriz de reflexão\n",
    "R2 = block_diagonal_matrix(matrix([[1]]),R2sub)\n",
    "pretty_print(R2)"
   ]
  },
  {
   "cell_type": "code",
   "execution_count": 19,
   "metadata": {},
   "outputs": [
    {
     "data": {
      "text/html": [
       "<html><script type=\"math/tex; mode=display\">\\newcommand{\\Bold}[1]{\\mathbf{#1}}\\left(\\begin{array}{rr}\n",
       "4.942526826287486 & -2.167774923810301 \\\\\n",
       "6.402121107990518 \\times 10^{-16} & 0.9109652392479406 \\\\\n",
       "-7.194965608196698 \\times 10^{-16} & 0.572745204889615\n",
       "\\end{array}\\right)</script></html>"
      ],
      "text/latex": [
       "$$\\newcommand{\\Bold}[1]{\\mathbf{#1}}\\left(\\begin{array}{rr}\n",
       "4.942526826287486 & -2.167774923810301 \\\\\n",
       "6.402121107990518 \\times 10^{-16} & 0.9109652392479406 \\\\\n",
       "-7.194965608196698 \\times 10^{-16} & 0.572745204889615\n",
       "\\end{array}\\right)$$"
      ],
      "text/plain": [
       "[     4.942526826287486     -2.167774923810301]\n",
       "[ 6.402121107990518e-16     0.9109652392479406]\n",
       "[-7.194965608196698e-16      0.572745204889615]"
      ]
     },
     "metadata": {},
     "output_type": "display_data"
    }
   ],
   "source": [
    "A3 = R2sub*A2sub\n",
    "pretty_print(A3)"
   ]
  },
  {
   "cell_type": "markdown",
   "metadata": {},
   "source": [
    "- Cálculos da reflexão elementar para a primeira coluna da matriz $A3sub$"
   ]
  },
  {
   "cell_type": "code",
   "execution_count": 20,
   "metadata": {},
   "outputs": [
    {
     "data": {
      "text/plain": [
       "[0.9109652392479406]\n",
       "[ 0.572745204889615]"
      ]
     },
     "execution_count": 20,
     "metadata": {},
     "output_type": "execute_result"
    }
   ],
   "source": [
    "A3sub = A3[1:3,1:3]\n",
    "A3sub"
   ]
  },
  {
   "cell_type": "code",
   "execution_count": 21,
   "metadata": {},
   "outputs": [
    {
     "data": {
      "text/plain": [
       "[0.9109652392479406]\n",
       "[ 0.572745204889615]"
      ]
     },
     "execution_count": 21,
     "metadata": {},
     "output_type": "execute_result"
    }
   ],
   "source": [
    "a3 = A3sub\n",
    "a3"
   ]
  },
  {
   "cell_type": "code",
   "execution_count": 22,
   "metadata": {},
   "outputs": [
    {
     "data": {
      "text/plain": [
       "[1]\n",
       "[0]"
      ]
     },
     "execution_count": 22,
     "metadata": {},
     "output_type": "execute_result"
    }
   ],
   "source": [
    "# Matriz identidade\n",
    "I2 = identity_matrix(2)\n",
    "\n",
    "e3 = I2[:,0]\n",
    "e3"
   ]
  },
  {
   "cell_type": "code",
   "execution_count": 23,
   "metadata": {},
   "outputs": [
    {
     "data": {
      "text/plain": [
       "1.0760551736979405"
      ]
     },
     "execution_count": 23,
     "metadata": {},
     "output_type": "execute_result"
    }
   ],
   "source": [
    "norma_a3=a3.norm()\n",
    "norma_a3"
   ]
  },
  {
   "cell_type": "code",
   "execution_count": 24,
   "metadata": {},
   "outputs": [
    {
     "data": {
      "text/plain": [
       "[1.987020412945881]\n",
       "[0.572745204889615]"
      ]
     },
     "execution_count": 24,
     "metadata": {},
     "output_type": "execute_result"
    }
   ],
   "source": [
    "u3=a3+norma_a3*e3\n",
    "u3"
   ]
  },
  {
   "cell_type": "code",
   "execution_count": 25,
   "metadata": {},
   "outputs": [
    {
     "data": {
      "text/plain": [
       "[-0.8465785598310387  -0.532263789895954]\n",
       "[ -0.532263789895954  0.8465785598310387]"
      ]
     },
     "execution_count": 25,
     "metadata": {},
     "output_type": "execute_result"
    }
   ],
   "source": [
    "R3sub = I2-2*u3*transpose(u3)/(u3.norm()**2)\n",
    "R3sub"
   ]
  },
  {
   "cell_type": "code",
   "execution_count": 26,
   "metadata": {},
   "outputs": [
    {
     "data": {
      "text/html": [
       "<html><script type=\"math/tex; mode=display\">\\newcommand{\\Bold}[1]{\\mathbf{#1}}\\left(\\begin{array}{rr|rr}\n",
       "1.0 & 0.0 & 0.0 & 0.0 \\\\\n",
       "0.0 & 1.0 & 0.0 & 0.0 \\\\\n",
       "\\hline\n",
       " 0.0 & 0.0 & -0.8465785598310387 & -0.532263789895954 \\\\\n",
       "0.0 & 0.0 & -0.532263789895954 & 0.8465785598310387\n",
       "\\end{array}\\right)</script></html>"
      ],
      "text/latex": [
       "$$\\newcommand{\\Bold}[1]{\\mathbf{#1}}\\left(\\begin{array}{rr|rr}\n",
       "1.0 & 0.0 & 0.0 & 0.0 \\\\\n",
       "0.0 & 1.0 & 0.0 & 0.0 \\\\\n",
       "\\hline\n",
       " 0.0 & 0.0 & -0.8465785598310387 & -0.532263789895954 \\\\\n",
       "0.0 & 0.0 & -0.532263789895954 & 0.8465785598310387\n",
       "\\end{array}\\right)$$"
      ],
      "text/plain": [
       "[                1.0                 0.0|                0.0                 0.0]\n",
       "[                0.0                 1.0|                0.0                 0.0]\n",
       "[---------------------------------------+---------------------------------------]\n",
       "[                0.0                 0.0|-0.8465785598310387  -0.532263789895954]\n",
       "[                0.0                 0.0| -0.532263789895954  0.8465785598310387]"
      ]
     },
     "metadata": {},
     "output_type": "display_data"
    }
   ],
   "source": [
    "aux = matrix(QQ,[[1,0],[0,1]])\n",
    "\n",
    "# Terceira matriz de reflexão\n",
    "R3 = block_diagonal_matrix(aux,R3sub)\n",
    "pretty_print(R3)"
   ]
  },
  {
   "cell_type": "markdown",
   "metadata": {},
   "source": [
    "- Obter matriz $Q$, que contém a base ortonormada da matriz A"
   ]
  },
  {
   "cell_type": "code",
   "execution_count": 27,
   "metadata": {},
   "outputs": [
    {
     "data": {
      "text/plain": [
       "[  0.3779644730092271 -0.37796447300922736   0.7559289460184547 -0.37796447300922736]\n",
       "[ -0.8671099695241202   0.0578073313016079   0.4913623160636682  0.05780733130160779]\n",
       "[-0.24455799402225922 0.016303866268150134  -0.3260773253630124  -0.9130165110164344]\n",
       "[ 0.21320071635561053   0.9238697708743119  0.28426762180748033  -0.1421338109037407]"
      ]
     },
     "execution_count": 27,
     "metadata": {},
     "output_type": "execute_result"
    }
   ],
   "source": [
    "Q_t = R3*(R2*R1)\n",
    "Q_t"
   ]
  },
  {
   "cell_type": "code",
   "execution_count": 28,
   "metadata": {},
   "outputs": [
    {
     "data": {
      "text/html": [
       "<html><script type=\"math/tex; mode=display\">\\newcommand{\\Bold}[1]{\\mathbf{#1}}\\left(\\begin{array}{rrrr}\n",
       "0.3779644730092271 & -0.8671099695241202 & -0.24455799402225922 & 0.21320071635561053 \\\\\n",
       "-0.37796447300922736 & 0.0578073313016079 & 0.016303866268150134 & 0.9238697708743119 \\\\\n",
       "0.7559289460184547 & 0.4913623160636682 & -0.3260773253630124 & 0.28426762180748033 \\\\\n",
       "-0.37796447300922736 & 0.05780733130160779 & -0.9130165110164344 & -0.1421338109037407\n",
       "\\end{array}\\right)</script></html>"
      ],
      "text/latex": [
       "$$\\newcommand{\\Bold}[1]{\\mathbf{#1}}\\left(\\begin{array}{rrrr}\n",
       "0.3779644730092271 & -0.8671099695241202 & -0.24455799402225922 & 0.21320071635561053 \\\\\n",
       "-0.37796447300922736 & 0.0578073313016079 & 0.016303866268150134 & 0.9238697708743119 \\\\\n",
       "0.7559289460184547 & 0.4913623160636682 & -0.3260773253630124 & 0.28426762180748033 \\\\\n",
       "-0.37796447300922736 & 0.05780733130160779 & -0.9130165110164344 & -0.1421338109037407\n",
       "\\end{array}\\right)$$"
      ],
      "text/plain": [
       "[  0.3779644730092271  -0.8671099695241202 -0.24455799402225922  0.21320071635561053]\n",
       "[-0.37796447300922736   0.0578073313016079 0.016303866268150134   0.9238697708743119]\n",
       "[  0.7559289460184547   0.4913623160636682  -0.3260773253630124  0.28426762180748033]\n",
       "[-0.37796447300922736  0.05780733130160779  -0.9130165110164344  -0.1421338109037407]"
      ]
     },
     "metadata": {},
     "output_type": "display_data"
    }
   ],
   "source": [
    "Q = Q_t.transpose()\n",
    "pretty_print(Q)"
   ]
  },
  {
   "cell_type": "markdown",
   "metadata": {},
   "source": [
    "- Obter matriz $R$, com a sua forma __triangular superior__ nas primeiras 3 linhas da matriz"
   ]
  },
  {
   "cell_type": "code",
   "execution_count": 29,
   "metadata": {},
   "outputs": [
    {
     "data": {
      "text/html": [
       "<html><script type=\"math/tex; mode=display\">\\newcommand{\\Bold}[1]{\\mathbf{#1}}\\left(\\begin{array}{rrr}\n",
       "-2.645751311064591 & 0.7559289460184558 & -0.3779644730092279 \\\\\n",
       "-3.171408460347205 \\times 10^{-16} & 4.942526826287486 & -2.167774923810301 \\\\\n",
       "-1.4103342580355948 \\times 10^{-16} & -1.5902788046766843 \\times 10^{-16} & -1.0760551736979405 \\\\\n",
       "1.2295009014781147 \\times 10^{-16} & -9.49872086693293 \\times 10^{-16} & 1.1613693984590276 \\times 10^{-16}\n",
       "\\end{array}\\right)</script></html>"
      ],
      "text/latex": [
       "$$\\newcommand{\\Bold}[1]{\\mathbf{#1}}\\left(\\begin{array}{rrr}\n",
       "-2.645751311064591 & 0.7559289460184558 & -0.3779644730092279 \\\\\n",
       "-3.171408460347205 \\times 10^{-16} & 4.942526826287486 & -2.167774923810301 \\\\\n",
       "-1.4103342580355948 \\times 10^{-16} & -1.5902788046766843 \\times 10^{-16} & -1.0760551736979405 \\\\\n",
       "1.2295009014781147 \\times 10^{-16} & -9.49872086693293 \\times 10^{-16} & 1.1613693984590276 \\times 10^{-16}\n",
       "\\end{array}\\right)$$"
      ],
      "text/plain": [
       "[     -2.645751311064591      0.7559289460184558     -0.3779644730092279]\n",
       "[ -3.171408460347205e-16       4.942526826287486      -2.167774923810301]\n",
       "[-1.4103342580355948e-16 -1.5902788046766843e-16     -1.0760551736979405]\n",
       "[ 1.2295009014781147e-16   -9.49872086693293e-16  1.1613693984590276e-16]"
      ]
     },
     "metadata": {},
     "output_type": "display_data"
    }
   ],
   "source": [
    "R = R3*(R2*(R1*A))\n",
    "pretty_print(R)"
   ]
  },
  {
   "cell_type": "markdown",
   "metadata": {},
   "source": [
    "Apesar de nos valores inferiores à zona triangular superior da matriz $R$ não serem exatamnete iguais a zero, estes são muito próximos de zero (ordem de grandeza extremamente baixa), podendo-se afirmar que a matriz $R$ obtida é válida.\n",
    "\n",
    "Assim, obtemos uma fatorização de $A = QR$."
   ]
  },
  {
   "cell_type": "code",
   "execution_count": 30,
   "metadata": {},
   "outputs": [
    {
     "data": {
      "text/html": [
       "<html><script type=\"math/tex; mode=display\">\\newcommand{\\Bold}[1]{\\mathbf{#1}}\\left(\\begin{array}{rrr}\n",
       "-1.0 & -4.0 & 2.0 \\\\\n",
       "1.0 & -0.0 & 0.0 \\\\\n",
       "-2.0 & 3.0 & -1.0 \\\\\n",
       "1.0 & -0.0 & 1.0\n",
       "\\end{array}\\right)</script></html>"
      ],
      "text/latex": [
       "$$\\newcommand{\\Bold}[1]{\\mathbf{#1}}\\left(\\begin{array}{rrr}\n",
       "-1.0 & -4.0 & 2.0 \\\\\n",
       "1.0 & -0.0 & 0.0 \\\\\n",
       "-2.0 & 3.0 & -1.0 \\\\\n",
       "1.0 & -0.0 & 1.0\n",
       "\\end{array}\\right)$$"
      ],
      "text/plain": [
       "[-1.0 -4.0  2.0]\n",
       "[ 1.0 -0.0  0.0]\n",
       "[-2.0  3.0 -1.0]\n",
       "[ 1.0 -0.0  1.0]"
      ]
     },
     "metadata": {},
     "output_type": "display_data"
    }
   ],
   "source": [
    "verify_A = round(Q*R) # igual à matriz original A\n",
    "pretty_print(verify_A)"
   ]
  },
  {
   "cell_type": "markdown",
   "metadata": {},
   "source": [
    "- Resolução da equação $Ax=b$ através dos mínimos quadrados\n",
    "\n",
    "Para resolver a equação $Ax=b$ pelo método dos mínimos quadrados, precisamos encontrar a solução $x=(x_1,x_2,x_3)$ que minimiza a norma do resíduo $||b-Ax||$. Podemos usar os resultados obtidos com a fatorização QR de A, nomeadmente as matrizes $Q^T$ e $R$, para obter a solução.\n",
    "\n",
    "Obtemos a matriz triangular superior de $R$, eliminando a última linha da matriz, de forma a garantir que a matriz seja quadrada. Sabendo que $c=Q^T b$, aplica-se algo semelhança ao passo anterior no vetor $c$ até os 3 primeiros valores do vetor ($c_3$). Por fim, a solução da equação $Ax=b$ pelo método dos mínimos quadrados é equivalente à solução $x = R^{-1}_{triangular} c_3$, já que minimizar o resíduo $||b-Ax||$ é é o mesmo que minimizar $||c-QAx||$.\n"
   ]
  },
  {
   "cell_type": "code",
   "execution_count": 31,
   "metadata": {},
   "outputs": [
    {
     "data": {
      "text/plain": [
       "[ -8.69318287921223]\n",
       "[2.7458482368263755]\n",
       "[-21.99391559573518]\n",
       "[-3.340144556237907]"
      ]
     },
     "execution_count": 31,
     "metadata": {},
     "output_type": "execute_result"
    }
   ],
   "source": [
    "c = Q_t*b\n",
    "c"
   ]
  },
  {
   "cell_type": "code",
   "execution_count": 32,
   "metadata": {},
   "outputs": [
    {
     "data": {
      "text/plain": [
       "[     -2.645751311064591      0.7559289460184558     -0.3779644730092279]\n",
       "[ -3.171408460347205e-16       4.942526826287486      -2.167774923810301]\n",
       "[-1.4103342580355948e-16 -1.5902788046766843e-16     -1.0760551736979405]"
      ]
     },
     "execution_count": 32,
     "metadata": {},
     "output_type": "execute_result"
    }
   ],
   "source": [
    "# apenas com a sua forma triangular\n",
    "R_triangular = R[:3]\n",
    "R_triangular"
   ]
  },
  {
   "cell_type": "code",
   "execution_count": 33,
   "metadata": {},
   "outputs": [
    {
     "data": {
      "text/plain": [
       "[ -8.69318287921223]\n",
       "[2.7458482368263755]\n",
       "[-21.99391559573518]"
      ]
     },
     "execution_count": 33,
     "metadata": {},
     "output_type": "execute_result"
    }
   ],
   "source": [
    "# 3 primeiros valores do vetor c\n",
    "c_3 = c[:3]\n",
    "c_3"
   ]
  },
  {
   "cell_type": "code",
   "execution_count": 34,
   "metadata": {},
   "outputs": [
    {
     "data": {
      "text/plain": [
       "[3.0858585858585856]\n",
       "[ 9.520202020202019]\n",
       "[ 20.43939393939394]"
      ]
     },
     "execution_count": 34,
     "metadata": {},
     "output_type": "execute_result"
    }
   ],
   "source": [
    "x = (R_triangular.inverse())*c_3\n",
    "x"
   ]
  },
  {
   "cell_type": "markdown",
   "metadata": {},
   "source": [
    "Então, pelo método dos mínimos quadrados, usando reflexões elementares (trasnformações de Householder), a solução da equação $Ax=b$ é igual a:\n",
    "\n",
    "- $x_1=3.0858585858585856$\n",
    "- $x_2=9.520202020202019$\n",
    "- $x_3=20.43939393939394$"
   ]
  }
 ],
 "metadata": {
  "kernelspec": {
   "display_name": "SageMath 9.3",
   "language": "sage",
   "name": "sagemath"
  },
  "language_info": {
   "codemirror_mode": {
    "name": "ipython",
    "version": 3
   },
   "file_extension": ".py",
   "mimetype": "text/x-python",
   "name": "python",
   "nbconvert_exporter": "python",
   "pygments_lexer": "ipython3",
   "version": "3.7.10"
  }
 },
 "nbformat": 4,
 "nbformat_minor": 4
}
